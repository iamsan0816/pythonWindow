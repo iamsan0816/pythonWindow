{
 "cells": [
  {
   "cell_type": "code",
   "execution_count": null,
   "metadata": {},
   "outputs": [],
   "source": [
    "import requests\n",
    "api_key = \"6c88d8b593da55e5d8bf61855950dee6\"\n",
    "cityName = \"Taipei\"\n",
    "url = f\"https://api.openweathermap.org/data/2.5/forecast?q={cityName},tw&APPID={api_key}&lang=zh_tw&units=metric\"\n",
    "\n",
    "response = requests.get(url=url)\n",
    "\n",
    "if response.ok:\n",
    "    print(\"下載成功\")\n",
    "    print(response.text)\n",
    "else:\n",
    "    print(\"下載失敗\")\n"
   ]
  },
  {
   "cell_type": "code",
   "execution_count": 9,
   "metadata": {},
   "outputs": [
    {
     "name": "stdout",
     "output_type": "stream",
     "text": [
      "超出索引編號\n"
     ]
    }
   ],
   "source": [
    "name = ['AAA','BBB','CCC','DDD']\n",
    "try:\n",
    " name [5]\n",
    "except IndexError:\n",
    "    print(\"超出索引編號\")\n",
    "except Exception as e:\n",
    "    print(e)"
   ]
  }
 ],
 "metadata": {
  "kernelspec": {
   "display_name": "Python 3.10.7 ('venv03_g')",
   "language": "python",
   "name": "python3"
  },
  "language_info": {
   "codemirror_mode": {
    "name": "ipython",
    "version": 3
   },
   "file_extension": ".py",
   "mimetype": "text/x-python",
   "name": "python",
   "nbconvert_exporter": "python",
   "pygments_lexer": "ipython3",
   "version": "3.10.7"
  },
  "orig_nbformat": 4,
  "vscode": {
   "interpreter": {
    "hash": "35c66c1c9d9dca8670d9d6684fc2e3f448fc21a4e4afe4c0208b33b6115dd5df"
   }
  }
 },
 "nbformat": 4,
 "nbformat_minor": 2
}
